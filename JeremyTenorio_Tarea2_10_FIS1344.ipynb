{
 "cells": [
  {
   "cell_type": "markdown",
   "metadata": {
    "id": "9044w9oJdCTD"
   },
   "source": [
    "### Tarea 2.10"
   ]
  },
  {
   "cell_type": "markdown",
   "metadata": {
    "id": "UlRMqw-ldEQT"
   },
   "source": [
    "En ciertos cálculos importantes en cosmología surge un problema análogo al siguiente. Queremos calcular algunas integrales\n",
    "\n",
    "$$\n",
    "I_{1} = \\int_{0}^{q_{max}} q^2\\left(\\frac{1}{q^5} + \\frac{3}{q}\\right)\\,dq\n",
    "$$\n",
    "\n",
    "$$\n",
    "I_{2} = \\int_{0}^{q_{max}} q^2\\left(\\frac{-1}{q^5} + \\frac{1}{q}\\right)\\,dq\n",
    "$$\n",
    "\n",
    "Estas integrales se pueden aproximar numéricamente por medio de su suma\n",
    "\n",
    "$$\n",
    "\\int_0^{q_{max}} f(q)\\,dq \\approx \\frac{q_{max}}{N} \\sum_{i = 1}^{N} f\\left(i\\times\\frac{q_{max}}{N}\\right)\n",
    "$$\n",
    "\n",
    "Profundizaremos en el cálculo numérico de integrales más adelante.\n",
    "\n",
    "La cantidad de interés es $I = I_{1} + I_{2}$."
   ]
  },
  {
   "cell_type": "markdown",
   "metadata": {
    "id": "kiLOxVO0dLiY"
   },
   "source": [
    "* Usando $q_{max} = 0.1$ y $N = 500000$, calcule ambas integrales por separado usando la aproximación, y luego súmelas. (1)\n",
    "\n"
   ]
  },
  {
   "cell_type": "markdown",
   "metadata": {
    "id": "OLewDBDKdMgO"
   },
   "source": [
    "* La suma de las integrales $I$ se puede escribir como la integral de la suma de los integrandos:\n",
    "\n",
    "$$\n",
    "I = \\int_0^{q_{max}} q^2 \\frac{4}{q}\\,dq\n",
    "$$\n",
    "\n",
    "Calcule $I$ de esta manera usando la aproximación. (2)\n",
    "\n"
   ]
  },
  {
   "cell_type": "markdown",
   "metadata": {
    "id": "6Qyaj-UhdQrN"
   },
   "source": [
    "* ¿Por qué son diferentes los resultados? Compare con el resultado exacto de la integral $I$. (3)\n",
    "\n"
   ]
  },
  {
   "cell_type": "code",
   "execution_count": 1,
   "metadata": {
    "id": "2MVnl8rVdY0D"
   },
   "outputs": [],
   "source": [
    "import numpy as np"
   ]
  },
  {
   "cell_type": "markdown",
   "metadata": {
    "id": "KPPmkFU7hKs3"
   },
   "source": [
    "(1) lo que hacemos primero es definir nuestras variables que nos brinda el problema, para luego aplicar lo que vendria siendo las condiciones de la sumatoria.\n",
    "\n"
   ]
  },
  {
   "cell_type": "code",
   "execution_count": 2,
   "metadata": {
    "colab": {
     "base_uri": "https://localhost:8080/"
    },
    "id": "pgIVgBajkSQx",
    "outputId": "d38fa341-a146-44fb-a2dd-4a149add5f09"
   },
   "outputs": [
    {
     "name": "stdout",
     "output_type": "stream",
     "text": [
      "30051422578939.883\n",
      "-30051422578939.86\n",
      "0.0234375\n"
     ]
    }
   ],
   "source": [
    "def f_1(q):\n",
    "    return q**2 * ((1/q**5) + (3/q))\n",
    "\n",
    "def f_2(q):\n",
    "    return q**2 * ((-1/q**5) + (1/q))\n",
    "\n",
    "# se Definen los valores\n",
    "q_max = 0.1\n",
    "N = 500000\n",
    "A = (q_max/N) #defino este cuociente como A para acortar los siguientes códigos.\n",
    "#Se calcula las sumatorias por separado.\n",
    "sumatoria_I1 = np.sum([f_1(i * (A)) for i in range(1, N+1)])\n",
    "sumatoria_I2 = np.sum([f_2(i * (A)) for i in range(1, N+1)])\n",
    "# Se calculan las aproximaciones de las integrales usando la fórmula entregada:\n",
    "integral_I1 = (A) * sumatoria_I1\n",
    "integral_I2 = (A) * sumatoria_I2\n",
    "I = integral_I1 + integral_I2\n",
    "print(integral_I1)\n",
    "print(integral_I2)\n",
    "print(I)"
   ]
  },
  {
   "cell_type": "markdown",
   "metadata": {
    "id": "6M7j__8bsRT1"
   },
   "source": [
    " utilizamos np.sum() para calcular la suma de elementos en el rango de i=1 hasta N+1\n"
   ]
  },
  {
   "cell_type": "markdown",
   "metadata": {
    "id": "395yBSoux9ir"
   },
   "source": [
    "ahora hacemos (2) con la integral que nos dan para I:\n"
   ]
  },
  {
   "cell_type": "code",
   "execution_count": 4,
   "metadata": {
    "colab": {
     "base_uri": "https://localhost:8080/"
    },
    "id": "_5xfnnovyEk5",
    "outputId": "c5969b0c-9371-4b29-f1c8-3e336766a663"
   },
   "outputs": [
    {
     "name": "stdout",
     "output_type": "stream",
     "text": [
      "Nueva Integral_I: 0.020000040000000004\n"
     ]
    }
   ],
   "source": [
    "def f_3(q):\n",
    "  return q**2 * (4/q)\n",
    "\n",
    "q_max = 0.1\n",
    "N = 500000\n",
    "A = (q_max/N)\n",
    "\n",
    "sumatoria_I = np.sum([f_3(i * (A)) for i in range(1, N+1)])\n",
    "Nuevaintegral_I = (A) * sumatoria_I\n",
    "print(\"Nueva Integral_I:\", Nuevaintegral_I)"
   ]
  },
  {
   "cell_type": "markdown",
   "metadata": {
    "id": "8TkcsGS60P4S"
   },
   "source": [
    "podemos ver que los resultados de ambas aproximaciones se asemejan, pero no son iguales. Esto puede deberse a la aritmética de punto flotante, errores de truncamiento y redondeo acumulativos, algorítmos numéricos, etc. Estas diferencias suelen ser pequeñas y generalmente no afectan significativamente la validez de los cálculos, pero es importante tener en cuenta estas consideraciones al comparar resultados.\n",
    "(3) El resultado exacto de I es 0.02, podemos ver que para ambos casos los dos se acercan bastante al valor exacto, pero por lo antes mencionado, al hacer aproximaciones mediante suma de riemann igual tiene un rango de error para los decimales muy grandes.\n"
   ]
  },
  {
   "cell_type": "markdown",
   "metadata": {},
   "source": [
    "# Calificacion: 7.0"
   ]
  }
 ],
 "metadata": {
  "colab": {
   "provenance": []
  },
  "kernelspec": {
   "display_name": "Python 3 (ipykernel)",
   "language": "python",
   "name": "python3"
  },
  "language_info": {
   "codemirror_mode": {
    "name": "ipython",
    "version": 3
   },
   "file_extension": ".py",
   "mimetype": "text/x-python",
   "name": "python",
   "nbconvert_exporter": "python",
   "pygments_lexer": "ipython3",
   "version": "3.9.13"
  }
 },
 "nbformat": 4,
 "nbformat_minor": 1
}
