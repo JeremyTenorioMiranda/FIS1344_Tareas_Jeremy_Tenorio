{
  "nbformat": 4,
  "nbformat_minor": 0,
  "metadata": {
    "colab": {
      "provenance": []
    },
    "kernelspec": {
      "name": "python3",
      "display_name": "Python 3"
    },
    "language_info": {
      "name": "python"
    }
  },
  "cells": [
    {
      "cell_type": "markdown",
      "source": [
        "### Tarea 5.2\n",
        "\n",
        "Repita el problema de la urna pero con reemplazo. Es decir, luego de sacar cada bola esta se vuelve a poner en la urna. Si se extraen cuatro bolas de la urna, ¿cuál es la probabilidad de que todas sean rojas? Responda este problema escribiendo un código, modificando las funciones escritas en la clase para tomar en cuenta el reemplazo."
      ],
      "metadata": {
        "id": "wPiMcPZ6qpHN"
      }
    },
    {
      "cell_type": "code",
      "source": [
        "import itertools\n",
        "\n",
        "def prob(evento, espacio):\n",
        "    '''\n",
        "    Regresa la probabilidad de que ocurra 'evento'.\n",
        "    Los argumentos deben ser conjuntos.\n",
        "    '''\n",
        "    return (len(evento & espacio)/len(espacio))\n",
        "\n",
        "#Se usa una urna con 23 bolas: 8 blancas, 6 azules y 9 rojas\n",
        "def unir(color, numeros):\n",
        "    return {color + numero for numero in numeros}\n",
        "\n",
        "\n",
        "#especificamos cuantas bolas hay de cada color, B=blanco, A=azul y R=rojas\n",
        "urna = unir('B', '12345678') | unir('A', '123456') | unir('R', '123456789')\n",
        "\n",
        "#espacio corresponde al espacio muestral y la modificacion al codigo visto en clase fue agregar las palabras\n",
        "#with y replacement para considerar que al sacar bolas de la urna estas se podían reemplazar.\n",
        "espacio = set(itertools.combinations_with_replacement(urna, 4))\n",
        "\n",
        "def todas_rojas(evento):\n",
        "    s = [i[0] for i in evento]\n",
        "    return s.count('R') == 4\n",
        "\n",
        "rojos ={e for e in espacio if todas_rojas(e)} #Evento de sacar 4 bolas y todas rojas\n",
        "\n",
        "a=prob(rojos,espacio)\n",
        "print(\"La probabilidad de obtener 4 bolas rojas con reemplazo de una urna de 23 bolas es\",a)"
      ],
      "metadata": {
        "colab": {
          "base_uri": "https://localhost:8080/"
        },
        "id": "VEzDbFHLqvS2",
        "outputId": "cc428ee0-1ca4-43f6-ba99-170f645d3ba7"
      },
      "execution_count": 1,
      "outputs": [
        {
          "output_type": "stream",
          "name": "stdout",
          "text": [
            "La probabilidad de obtener 4 bolas rojas con reemplazo de una urna de 23 bolas es 0.03311036789297659\n"
          ]
        }
      ]
    }
  ]
}