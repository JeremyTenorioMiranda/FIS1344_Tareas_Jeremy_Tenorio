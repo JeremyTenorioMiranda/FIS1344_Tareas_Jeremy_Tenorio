{
  "nbformat": 4,
  "nbformat_minor": 0,
  "metadata": {
    "colab": {
      "provenance": []
    },
    "kernelspec": {
      "name": "python3",
      "display_name": "Python 3"
    },
    "language_info": {
      "name": "python"
    }
  },
  "cells": [
    {
      "cell_type": "markdown",
      "source": [
        "##Tarea 6.6\n",
        "\n",
        "Use el método de bisección para encontrar un cero de la función\n",
        "\n",
        "$$\n",
        "f(x) = 1 - \\cos(x) -\\frac{\\sin(x)}{x}\n",
        "$$\n",
        "\n",
        "entre $-6.5$ y $-6.0$. Grafique el error relativo requerido al calcular el cero en función del número de iteraciones que necesita el método para converger. Compare con la cota teórica."
      ],
      "metadata": {
        "id": "0ttHrfNZP63e"
      }
    },
    {
      "cell_type": "code",
      "source": [
        "import numpy as np"
      ],
      "metadata": {
        "id": "HaSV5BaX5Z02"
      },
      "execution_count": 25,
      "outputs": []
    },
    {
      "cell_type": "code",
      "source": [
        "def func(x):\n",
        "    return 1-np.cos(x)-np.sin(x)/x"
      ],
      "metadata": {
        "id": "sWRB6DgB9FUY"
      },
      "execution_count": 27,
      "outputs": []
    },
    {
      "cell_type": "code",
      "source": [
        "import matplotlib.pyplot as plt"
      ],
      "metadata": {
        "id": "bkRAMaOo9W6I"
      },
      "execution_count": 26,
      "outputs": []
    },
    {
      "cell_type": "code",
      "source": [
        "x = np.linspace(-6.5, -6.0, 100)\n",
        "plt.plot(x, func(x))"
      ],
      "metadata": {
        "colab": {
          "base_uri": "https://localhost:8080/",
          "height": 448
        },
        "id": "-qqklfbr9ZYz",
        "outputId": "f81c47e4-46d8-4967-e677-61f9b87c6465"
      },
      "execution_count": 28,
      "outputs": [
        {
          "output_type": "execute_result",
          "data": {
            "text/plain": [
              "[<matplotlib.lines.Line2D at 0x7b2caed8f700>]"
            ]
          },
          "metadata": {},
          "execution_count": 28
        },
        {
          "output_type": "display_data",
          "data": {
            "text/plain": [
              "<Figure size 640x480 with 1 Axes>"
            ],
            "image/png": "[encoded data removed]"
          },
          "metadata": {}
        }
      ]
    },
    {
      "cell_type": "code",
      "source": [
        "func(-6.5)"
      ],
      "metadata": {
        "colab": {
          "base_uri": "https://localhost:8080/"
        },
        "id": "0tB0tWsD9fYZ",
        "outputId": "04583fd4-4c59-489a-ad69-23ed4180e75c"
      },
      "execution_count": 29,
      "outputs": [
        {
          "output_type": "execute_result",
          "data": {
            "text/plain": [
              "-0.00968300851076434"
            ]
          },
          "metadata": {},
          "execution_count": 29
        }
      ]
    },
    {
      "cell_type": "code",
      "source": [
        "func(-6.0)"
      ],
      "metadata": {
        "colab": {
          "base_uri": "https://localhost:8080/"
        },
        "id": "lh3Gt5Hg9hvc",
        "outputId": "3f116bfd-e3cf-4029-f10b-e16010f055b4"
      },
      "execution_count": 30,
      "outputs": [
        {
          "output_type": "execute_result",
          "data": {
            "text/plain": [
              "0.08639896304945502"
            ]
          },
          "metadata": {},
          "execution_count": 30
        }
      ]
    },
    {
      "cell_type": "code",
      "source": [
        "def biseccion(func, a, b, epsilon, N=1000000):\n",
        "\n",
        "    for i in range(N):\n",
        "        p = a + (b - a)/2\n",
        "        print(p)\n",
        "        if abs(func(p)) < epsilon:\n",
        "            print(\"Cero en\", p, \"encontrado después de\", i, \"iteraciones.\")\n",
        "            return p\n",
        "        elif func(p)*func(a) > 0:\n",
        "            a = p\n",
        "        else:\n",
        "            b = p\n",
        "    print(\"No se encontró el cero después de\", N, \"iteraciones.\")"
      ],
      "metadata": {
        "id": "FHkbwpE09qJu"
      },
      "execution_count": 36,
      "outputs": []
    },
    {
      "cell_type": "code",
      "source": [
        "biseccion(func, -6.5, -6.0, 0.0001)"
      ],
      "metadata": {
        "colab": {
          "base_uri": "https://localhost:8080/"
        },
        "id": "d55sBGoZ9ymV",
        "outputId": "8235023e-6831-4a4d-87ed-84654db36162"
      },
      "execution_count": 32,
      "outputs": [
        {
          "output_type": "stream",
          "name": "stdout",
          "text": [
            "-6.25\n",
            "-6.375\n",
            "-6.3125\n",
            "-6.28125\n",
            "-6.296875\n",
            "-6.2890625\n",
            "-6.28515625\n",
            "-6.283203125\n",
            "Cero en -6.283203125 encontrado después de 7 iteraciones.\n"
          ]
        },
        {
          "output_type": "execute_result",
          "data": {
            "text/plain": [
              "-6.283203125"
            ]
          },
          "metadata": {},
          "execution_count": 32
        }
      ]
    },
    {
      "cell_type": "markdown",
      "source": [
        "#para confirmar:"
      ],
      "metadata": {
        "id": "Khsd5vR_-HT3"
      }
    },
    {
      "cell_type": "code",
      "source": [
        "def biseccion(f, a, b, epsilon, N=1000000):\n",
        "\n",
        "  error_relativo = []  #arreglo vacío al cual se le irá agregando valores de error.\n",
        "  pp = a\n",
        "\n",
        "  for i in range(N):\n",
        "      p = a + (b - a)/2\n",
        "      error_relativo.append(abs(p - pp)/abs(p))\n",
        "      print(f'p = {p}, error = {error_relativo[-1]}, iteraciones = {i}')\n",
        "      if error_relativo[-1] < epsilon:\n",
        "          return p, error_relativo, i\n",
        "      elif f(p)*f(a) > 0:\n",
        "          a = p\n",
        "      else:\n",
        "          b = p\n",
        "      pp = p\n",
        "  print(\"No se encontró el cero después de\", N, \"iteraciones.\")\n",
        "\n",
        "\n",
        "p, error_relativo, iteraciones = biseccion(func, -6.5, -6.0, 0.0001)\n",
        "print('la cota teórica es:',((-6.0) -(-6.5))/(2**iteraciones)) #imprime el valor de la cota teórica\n",
        "x = np.linspace(-6.5, -6, iteraciones +1) #da eje x en el gráfico y sus valores separados por iteraciones\n",
        "plt.errorbar(x, func(x), yerr = error_relativo, ecolor = 'blue', elinewidth = 3, capsize = 0)\n",
        "#error relativo corresponde al errorbar\n",
        "plt.xlabel('x')\n",
        "plt.ylabel('Valor de f(x)')\n",
        "plt.show()"
      ],
      "metadata": {
        "colab": {
          "base_uri": "https://localhost:8080/",
          "height": 646
        },
        "id": "vBxAZDsM-B7q",
        "outputId": "b1d5ff48-4373-4b61-80a4-ac58d35f4378"
      },
      "execution_count": 134,
      "outputs": [
        {
          "output_type": "stream",
          "name": "stdout",
          "text": [
            "p = -6.25, error = 0.04, iteraciones = 0\n",
            "p = -6.375, error = 0.0196078431372549, iteraciones = 1\n",
            "p = -6.3125, error = 0.009900990099009901, iteraciones = 2\n",
            "p = -6.28125, error = 0.004975124378109453, iteraciones = 3\n",
            "p = -6.296875, error = 0.0024813895781637717, iteraciones = 4\n",
            "p = -6.2890625, error = 0.0012422360248447205, iteraciones = 5\n",
            "p = -6.28515625, error = 0.0006215040397762585, iteraciones = 6\n",
            "p = -6.283203125, error = 0.00031084861672365556, iteraciones = 7\n",
            "p = -6.2822265625, error = 0.000155448468832582, iteraciones = 8\n",
            "p = -6.28271484375, error = 7.771819382917541e-05, iteraciones = 9\n",
            "la cota teórica es: 0.0009765625\n"
          ]
        },
        {
          "output_type": "display_data",
          "data": {
            "text/plain": [
              "<Figure size 640x480 with 1 Axes>"
            ],
            "image/png": "[encoded data removed]"
          },
          "metadata": {}
        }
      ]
    },
    {
      "cell_type": "markdown",
      "source": [
        "comparando la cota teorica con los valores de error para cada iteración, vemos que mientras más grande la iteración, el valor de error irá disminuyendo, ya que esta convergerá cada vez más al valor de 0 (al ser más precisos al tener más datos). la diferencia de la cota con el error son más notorias cuando el numero de iteraciones está por debajo de la i = 7"
      ],
      "metadata": {
        "id": "5qmx77CfaAoC"
      }
    }
  ]
}