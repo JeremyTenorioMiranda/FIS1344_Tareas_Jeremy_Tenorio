{
  "nbformat": 4,
  "nbformat_minor": 0,
  "metadata": {
    "colab": {
      "provenance": []
    },
    "kernelspec": {
      "name": "python3",
      "display_name": "Python 3"
    },
    "language_info": {
      "name": "python"
    }
  },
  "cells": [
    {
      "cell_type": "markdown",
      "source": [
        "##Tarea 10.4\n",
        "\n",
        "ejercicio 5.3.12 libro de Burden\n",
        "\n",
        "Un proyectil con masEa $m = 0.11$ kg se dispara verticalmente hacia arriba con una velocidad inicial $v(0) = 8$ m/s y sufre una desaceleración debida a la fuerza de la gravedad $F = -mg$ y a la resistencia del aire $F = -kv|v|$, donde $g = 9.8$ m/s^2 y $k = 0.002$ kg/m.\n",
        "\n",
        "\n",
        "$\\bullet$ Encuentre la velocidad a $t = 0.1, 0.2, ..., 1.0$ segundos.\n",
        "\n",
        "$\\bullet$ Encuentre a la primera cifra decimal el tiempo al cual el proyectil alcanza su máxima altura y vuelve a empezar a caer."
      ],
      "metadata": {
        "id": "QmfmzqwcAOaO"
      }
    },
    {
      "cell_type": "code",
      "execution_count": 1,
      "metadata": {
        "id": "JpZwNXJfANGA"
      },
      "outputs": [],
      "source": [
        "import numpy as np\n",
        "import matplotlib.pyplot as plt\n",
        "\n",
        "def euler(f, a, b, vo, N):\n",
        "\n",
        "    h = (b-a)/N\n",
        "    t = a\n",
        "    w = vo\n",
        "    ts = np.zeros(N+1)\n",
        "    sol = np.zeros(N+1)\n",
        "\n",
        "    for i in range(N):\n",
        "        ts[i] = t\n",
        "        sol[i] = w\n",
        "        w = w + h*f(t, w)\n",
        "        t = t + h\n",
        "\n",
        "    ts[N] = t\n",
        "    sol[N] = w\n",
        "\n",
        "    return ts, sol"
      ]
    },
    {
      "cell_type": "markdown",
      "source": [
        "La funcion simplificada:\n",
        "\n",
        "$$\n",
        "v'(t)=-g-\\frac{kv|v|}{m}\n",
        "$$"
      ],
      "metadata": {
        "id": "PwY9OysRBL6v"
      }
    },
    {
      "cell_type": "code",
      "source": [
        "def Tiro_vertical(t,v):\n",
        "\n",
        "    g=9.8\n",
        "    k=0.002\n",
        "    m=0.11\n",
        "    return -g-(k*v*np.abs(v))/m"
      ],
      "metadata": {
        "id": "zRIepmRxBSir"
      },
      "execution_count": 2,
      "outputs": []
    },
    {
      "cell_type": "code",
      "source": [
        "Tiro=euler(Tiro_vertical,0,1,8,10) #tomamos los tiempos que nos pide la tarea"
      ],
      "metadata": {
        "id": "P8Xx_bipBbGL"
      },
      "execution_count": 3,
      "outputs": []
    },
    {
      "cell_type": "code",
      "source": [
        "Tiro"
      ],
      "metadata": {
        "colab": {
          "base_uri": "https://localhost:8080/"
        },
        "id": "Y7jGEQ1LBgJA",
        "outputId": "4222c40a-a1a9-4145-a864-0a193dd3dfa4"
      },
      "execution_count": 4,
      "outputs": [
        {
          "output_type": "execute_result",
          "data": {
            "text/plain": [
              "(array([0. , 0.1, 0.2, 0.3, 0.4, 0.5, 0.6, 0.7, 0.8, 0.9, 1. ]),\n",
              " array([ 8.        ,  6.90363636,  5.83698146,  4.79503537,  3.77323107,\n",
              "         2.76734512,  1.77342112,  0.7877029 , -0.19342524, -1.17335722,\n",
              "        -2.150854  ]))"
            ]
          },
          "metadata": {},
          "execution_count": 4
        }
      ]
    },
    {
      "cell_type": "markdown",
      "source": [
        "entre los tiempos 0.7 y 0.8 segundos vemos el cambio de la velocidad de positiva a negativa, esto nos indica que alcanza su máxima altura y luego de esto comienza a caer."
      ],
      "metadata": {
        "id": "C0lxk_-jB4Q-"
      }
    },
    {
      "cell_type": "code",
      "source": [
        "plt.plot(Tiro[0],Tiro[1],color='blue')\n",
        "plt.title('Velocidad vs Tiempo')\n",
        "plt.xlabel('Tiempo(s)')\n",
        "plt.ylabel('Velocidad(m/s)')\n",
        "plt.show()"
      ],
      "metadata": {
        "colab": {
          "base_uri": "https://localhost:8080/",
          "height": 472
        },
        "id": "JU_Mu2AFCHND",
        "outputId": "e63ab743-efa2-4865-80e2-250387b30d4e"
      },
      "execution_count": 6,
      "outputs": [
        {
          "output_type": "display_data",
          "data": {
            "text/plain": [
              "<Figure size 640x480 with 1 Axes>"
            ],
            "image/png": "[encoded data removed]"
          },
          "metadata": {}
        }
      ]
    }
  ]
}