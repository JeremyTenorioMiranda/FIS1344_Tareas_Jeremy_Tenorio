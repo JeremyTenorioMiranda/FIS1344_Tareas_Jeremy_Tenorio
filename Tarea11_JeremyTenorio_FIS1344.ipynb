{
  "nbformat": 4,
  "nbformat_minor": 0,
  "metadata": {
    "colab": {
      "provenance": []
    },
    "kernelspec": {
      "name": "python3",
      "display_name": "Python 3"
    },
    "language_info": {
      "name": "python"
    }
  },
  "cells": [
    {
      "cell_type": "markdown",
      "source": [
        "# Modifique los códigos de Runge-Kutta-Fehlberg y Adams con control de error para que impriman el número de pasos requeridos. Luego resuelva el siguiente problema de condición incial con ambos métodos y compare para diferentes tolerancias:\n",
        "\n",
        "$$\n",
        "y'(t) = (1/t)(y^2 + y)\\,,\\quad 1 \\leq t \\leq 3\\,,\\quad y(1) = -2\\,.\n",
        "$$"
      ],
      "metadata": {
        "id": "QznHsAjpTzfq"
      }
    },
    {
      "cell_type": "markdown",
      "source": [
        "##Método de Runge-Kutta-Fehlberg (RKF45) con control de error y contador de pasos:"
      ],
      "metadata": {
        "id": "Ujb232vVT-I_"
      }
    },
    {
      "cell_type": "code",
      "execution_count": 2,
      "metadata": {
        "id": "ezmvRjNvTyPi"
      },
      "outputs": [],
      "source": [
        "def rkf45(f, a, b, y0, tol):\n",
        "    t = a\n",
        "    y = y0\n",
        "    h = 0.1  # Tamaño inicial de paso\n",
        "    steps = 0  # Inicializar contador de pasos\n",
        "\n",
        "    while t < b:\n",
        "        k1 = h * f(t, y)\n",
        "        k2 = h * f(t + h / 4, y + k1 / 4)\n",
        "        k3 = h * f(t + 3 * h / 8, y + 3 / 32 * k1 + 9 / 32 * k2)\n",
        "        k4 = h * f(t + 12 * h / 13, y + 1932 / 2197 * k1 - 7200 / 2197 * k2 + 7296 / 2197 * k3)\n",
        "        k5 = h * f(t + h, y + 439 / 216 * k1 - 8 * k2 + 3680 / 513 * k3 - 845 / 4104 * k4)\n",
        "        k6 = h * f(t + h / 2, y - 8 / 27 * k1 + 2 * k2 - 3544 / 2565 * k3 + 1859 / 4104 * k4 - 11 / 40 * k5)\n",
        "\n",
        "        R = 1 / h * abs(1 / 360 * k1 - 128 / 4275 * k3 - 2197 / 75240 * k4 + 1 / 50 * k5 + 2 / 55 * k6)\n",
        "        delta = 0.84 * (tol / R) ** 0.25\n",
        "\n",
        "        if R <= tol:\n",
        "            t += h\n",
        "            y += 25 / 216 * k1 + 1408 / 2565 * k3 + 2197 / 4104 * k4 - 1 / 5 * k5\n",
        "            steps += 1\n",
        "\n",
        "        h = min(2 * h, delta * h) if delta >= 1 else delta * h\n",
        "\n",
        "    return y, steps\n"
      ]
    },
    {
      "cell_type": "markdown",
      "source": [
        "##Método de Adams con control de error y contador de pasos:"
      ],
      "metadata": {
        "id": "vhMYsRWiUBKD"
      }
    },
    {
      "cell_type": "code",
      "source": [
        "def adams(f, a, b, y0, tol):\n",
        "    t = a\n",
        "    y = y0\n",
        "    h = 0.1  # Tamaño inicial de paso\n",
        "    steps = 0  # Inicializar contador de pasos\n",
        "    prev_vals = []\n",
        "\n",
        "    while t < b:\n",
        "        if len(prev_vals) < 4:\n",
        "            k1 = h * f(t, y)\n",
        "            k2 = h * f(t + h / 2, y + k1 / 2)\n",
        "            k3 = h * f(t + h / 2, y + k2 / 2)\n",
        "            k4 = h * f(t + h, y + k3)\n",
        "\n",
        "            y_next = y + 1 / 6 * (k1 + 2 * k2 + 2 * k3 + k4)\n",
        "            prev_vals.append((t, y))\n",
        "            t += h\n",
        "            y = y_next\n",
        "            steps += 1\n",
        "\n",
        "        else:\n",
        "            predictor = y + h / 24 * (55 * f(t, y) - 59 * f(prev_vals[-1][0], prev_vals[-1][1]) +\n",
        "                                      37 * f(prev_vals[-2][0], prev_vals[-2][1]) - 9 * f(prev_vals[-3][0], prev_vals[-3][1]))\n",
        "\n",
        "            corrector = predictor\n",
        "            error = tol * 2  # Inicializar error con un valor mayor que la tolerancia\n",
        "            while error > tol:\n",
        "                k1 = h * f(t, corrector)\n",
        "                k2 = h * f(t + h / 2, corrector + k1 / 2)\n",
        "                k3 = h * f(t + h / 2, corrector + k2 / 2)\n",
        "                k4 = h * f(t + h, corrector + k3)\n",
        "\n",
        "                y_next = corrector + 1 / 6 * (k1 + 2 * k2 + 2 * k3 + k4)\n",
        "                error = abs(y_next - corrector)\n",
        "                corrector = y_next\n",
        "                steps += 1\n",
        "\n",
        "            t += h\n",
        "            y = corrector\n",
        "            prev_vals.pop(0)\n",
        "            prev_vals.append((t, y))\n",
        "\n",
        "    return y, steps\n"
      ],
      "metadata": {
        "id": "p5sVZKhUUF32"
      },
      "execution_count": 3,
      "outputs": []
    },
    {
      "cell_type": "code",
      "source": [
        "import numpy as np\n",
        "\n",
        "# Definir la ecuación diferencial y sus parámetros\n",
        "def f(t, y):\n",
        "    return (1 / t) * (y ** 2 + y)\n",
        "\n",
        "a = 1\n",
        "b = 3\n",
        "y0 = -2\n",
        "\n",
        "# Definir las tolerancias para la comparación\n",
        "tolerances = [1e-6, 1e-8, 1e-10]\n",
        "\n",
        "for tol in tolerances:\n",
        "    print(f\"\\nTolerancia: {tol}\")\n",
        "\n",
        "    # Método de Runge-Kutta-Fehlberg (RKF45)\n",
        "    result_rkf, steps_rkf = rkf45(f, a, b, y0, tol)\n",
        "    print(f\"RKF45: Resultado = {result_rkf}, Pasos = {steps_rkf}\")\n",
        "\n",
        "    # Método de Adams\n",
        "    result_adams, steps_adams = adams(f, a, b, y0, tol)\n",
        "    print(f\"Adams: Resultado = {result_adams}, Pasos = {steps_adams}\")\n"
      ],
      "metadata": {
        "colab": {
          "base_uri": "https://localhost:8080/"
        },
        "id": "7gQSBu7gUPm-",
        "outputId": "2f986625-4951-4311-e436-3b9c211f9d9b"
      },
      "execution_count": 4,
      "outputs": [
        {
          "output_type": "stream",
          "name": "stdout",
          "text": [
            "\n",
            "Tolerancia: 1e-06\n",
            "RKF45: Resultado = -1.1592646633076549, Pasos = 13\n",
            "Adams: Resultado = -1.00000519307231, Pasos = 423\n",
            "\n",
            "Tolerancia: 1e-08\n",
            "RKF45: Resultado = -1.194055757817298, Pasos = 34\n",
            "Adams: Resultado = -1.000000051766889, Pasos = 637\n",
            "\n",
            "Tolerancia: 1e-10\n",
            "RKF45: Resultado = -1.1984947169921412, Pasos = 101\n",
            "Adams: Resultado = -1.000000000517139, Pasos = 851\n"
          ]
        }
      ]
    }
  ]
}