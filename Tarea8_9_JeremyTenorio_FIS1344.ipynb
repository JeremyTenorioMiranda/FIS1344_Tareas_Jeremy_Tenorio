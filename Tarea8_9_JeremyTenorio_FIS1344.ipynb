{
  "nbformat": 4,
  "nbformat_minor": 0,
  "metadata": {
    "colab": {
      "provenance": []
    },
    "kernelspec": {
      "name": "python3",
      "display_name": "Python 3"
    },
    "language_info": {
      "name": "python"
    }
  },
  "cells": [
    {
      "cell_type": "markdown",
      "source": [
        "### Tarea 8.9\n",
        "Suponga que la medición de un cierto proceso físico da como resultado la siguiente expresión\n",
        "\n",
        "$$\n",
        "p(x) = \\sin x + n(x)\n",
        "$$\n",
        "\n",
        "donde $n$ es el error experimental que podemos describir como un número aleatorio, para cada valor de $x$, tomado de una distribución gaussiana con media $0$ y desviación estándar $10^{-5}$. Queremos calcular la integral\n",
        "\n",
        "$$\n",
        "\\int_0^1 dx\\,p(x)\\,.\n",
        "$$\n",
        "\n",
        "Use el método compuesto de Simpson para calcular esta integral. El verdadero valor de esta integral es $1-\\cos(1)$. Grafique el error cometido en función de $h$. ¿Se puede lograr una precisión de $10^{-7}$? ¿Por qué?"
      ],
      "metadata": {
        "id": "sr63f1nwbtIs"
      }
    },
    {
      "cell_type": "code",
      "execution_count": 3,
      "metadata": {
        "colab": {
          "base_uri": "https://localhost:8080/"
        },
        "id": "urWW7LDmbruQ",
        "outputId": "b00b4e1c-57d7-4ec2-8d92-4452ccef5b86"
      },
      "outputs": [
        {
          "output_type": "stream",
          "name": "stdout",
          "text": [
            "Resultado con h = 0.1: 0.4596977100983376\n",
            "Error cometido: 1.5966477362461262e-08\n"
          ]
        }
      ],
      "source": [
        "import numpy as np\n",
        "\n",
        "def p(x):\n",
        "    return np.sin(x)\n",
        "\n",
        "# Número de subintervalos iniciales\n",
        "N = 10\n",
        "\n",
        "# Valor verdadero de la integral\n",
        "valor_real = 1 - np.cos(1)\n",
        "\n",
        "# Precisión deseada\n",
        "precision_deseada = 1e-7\n",
        "\n",
        "error = np.inf\n",
        "\n",
        "while error > precision_deseada:\n",
        "    h = 1 / N\n",
        "    x_values = np.linspace(0, 1, N + 1)\n",
        "    integral = 0\n",
        "\n",
        "    for i in range(N):\n",
        "        integral += h / 6 * (p(x_values[i]) + 4 * p(x_values[i] + h / 2) + p(x_values[i + 1]))\n",
        "\n",
        "    error = abs(integral - valor_real)\n",
        "    N *= 2\n",
        "\n",
        "print(f\"Resultado con h = {h}: {integral}\")\n",
        "print(f\"Error cometido: {error}\")\n"
      ]
    },
    {
      "cell_type": "code",
      "source": [
        "import numpy as np\n",
        "import matplotlib.pyplot as plt\n",
        "\n",
        "def p(x):\n",
        "    return np.sin(x)\n",
        "\n",
        "# Número de subintervalos iniciales\n",
        "N = 10\n",
        "\n",
        "# Valor verdadero de la integral\n",
        "valor_real = 1 - np.cos(1)\n",
        "\n",
        "# Precisión deseada\n",
        "precision_deseada = 1e-7\n",
        "\n",
        "h_valores = []\n",
        "error_valores = []\n",
        "\n",
        "error = np.inf\n",
        "\n",
        "while error > precision_deseada:\n",
        "    h = 1 / N\n",
        "    x_values = np.linspace(0, 1, N + 1)\n",
        "    integral = 0\n",
        "\n",
        "    for i in range(N):\n",
        "        integral += h / 6 * (p(x_values[i]) + 4 * p(x_values[i] + h / 2) + p(x_values[i + 1]))\n",
        "\n",
        "    error = abs(integral - valor_real)\n",
        "    h_valores.append(h)\n",
        "    error_valores.append(error)\n",
        "    N *= 2\n",
        "\n",
        "plt.plot(h_valores, error_valores, marker='o', linestyle='-')\n",
        "plt.xlabel('h')\n",
        "plt.ylabel('Error')\n",
        "plt.yscale('log')  # Escala logarítmica en el eje vertical para mejor visualización\n",
        "plt.title('Error vs. h en la integración de p(x)')\n",
        "plt.grid(True)\n",
        "plt.show()\n"
      ],
      "metadata": {
        "colab": {
          "base_uri": "https://localhost:8080/",
          "height": 472
        },
        "id": "QvFj6BJWgGae",
        "outputId": "95cd9b5a-1228-4b0d-a03d-8baf80747a21"
      },
      "execution_count": 4,
      "outputs": [
        {
          "output_type": "display_data",
          "data": {
            "text/plain": [
              "<Figure size 640x480 with 1 Axes>"
            ],
            "image/png": "[encoded data removed]"
          },
          "metadata": {}
        }
      ]
    }
  ]
}