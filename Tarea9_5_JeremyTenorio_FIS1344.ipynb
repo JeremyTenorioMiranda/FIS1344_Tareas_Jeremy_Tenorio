{
  "cells": [
    {
      "cell_type": "markdown",
      "metadata": {
        "id": "Q3ateXlneKYy"
      },
      "source": [
        "##Tarea 9.5\n",
        "\n",
        "Ejercicio 4.6.10 del libro de análisis numérico de Burden.\n",
        "\n",
        "El estudio de la difracción de la luz en una apertura rectangular involucra las integrales de Fresnel\n",
        "\n",
        "$$\n",
        "c(t) = \\int_0^t dw\\,\\cos\\frac{\\pi}{2}w^2\\,,\\quad s(t) = \\int_0^t dw\\,\\sin\\frac{\\pi}{2}w^2\\,.\n",
        "$$\n",
        "\n",
        "Construya una tabla de integrales de Fresnel con una precisión de $10^{-4}$ para los valores $t = 0.1, 0.2, ..., 0.9, 1.0$."
      ]
    },
    {
      "cell_type": "code",
      "execution_count": 9,
      "metadata": {
        "id": "5ef21162"
      },
      "outputs": [],
      "source": [
        "import numpy as np\n",
        "import matplotlib.pyplot as plt"
      ]
    },
    {
      "cell_type": "code",
      "execution_count": 10,
      "metadata": {
        "id": "aa33fd41"
      },
      "outputs": [],
      "source": [
        "def C(w):\n",
        "    return np.cos((np.pi/2)*w**2)\n",
        "def S(w):\n",
        "    return np.sin((np.pi/2)*w**2)"
      ]
    },
    {
      "cell_type": "code",
      "execution_count": 15,
      "metadata": {
        "id": "H3L0CE42fb8V"
      },
      "outputs": [],
      "source": [
        "class MaxIterations(Exception):\n",
        "    pass\n",
        "\n",
        "def integral_adaptive(f, a, b, tol, N=100000):\n",
        "\n",
        "    '''\n",
        "    f: la función a integrar   (type:function)\n",
        "    [a,b]: los limites de integracion   (type:float)\n",
        "    tol: el valor de tolerancia    (type:float)\n",
        "    N: cantidad maxima de iteraciones   (type:int)\n",
        "    '''\n",
        "\n",
        "    #Variables iniciales\n",
        "    approx = 0\n",
        "    i = 0\n",
        "    toli = [10*tol]\n",
        "    ai = [a]\n",
        "    hi = [(b - a)/2]\n",
        "    fai = [f(a)]\n",
        "    fbi = [f(b)]\n",
        "    fci = [f(a + hi[i])]\n",
        "    S0i = [hi[i]*(fai[i] + 4*fci[i] + fbi[i])/3]\n",
        "    Li = [1]\n",
        "\n",
        "    while i >= 0:\n",
        "\n",
        "        fd = f(ai[i] + hi[i]/2)\n",
        "        fe = f(ai[i] + 3*hi[i]/2)\n",
        "        S1 = hi[i]*(fai[i] + 4*fd + fci[i])/6\n",
        "        S2 = hi[i]*(fci[i] + 4*fe + fbi[i])/6\n",
        "        ai_prec = ai[i]\n",
        "        hi_prec = hi[i]\n",
        "        fai_prec = fai[i]\n",
        "        fbi_prec = fbi[i]\n",
        "        fci_prec = fci[i]\n",
        "        toli_prec = toli[i]\n",
        "        S0i_prec = S0i[i]\n",
        "        Li_prec = Li[i]\n",
        "\n",
        "        i -= 1\n",
        "        if abs(S1 + S2 - S0i_prec) < toli_prec:\n",
        "            approx += S1 + S2\n",
        "        else:\n",
        "            if Li_prec >= N:\n",
        "                raise MaxIterations(\" máximo número de iteraciones.\")\n",
        "\n",
        "            # Intervalo derecho\n",
        "            i += 1\n",
        "            if i >= len(ai): # A veces hay que ampliar la lista\n",
        "                ai.append(ai_prec + hi_prec)\n",
        "                fai.append(fci_prec)\n",
        "                fci.append(fe)\n",
        "                fbi.append(fbi_prec)\n",
        "                hi.append(hi_prec/2)\n",
        "                toli.append(toli_prec/2)\n",
        "                S0i.append(S2)\n",
        "                Li.append(Li_prec + 1)\n",
        "            else:\n",
        "                ai[i] = ai_prec + hi_prec\n",
        "                fai[i] = fci_prec\n",
        "                fci[i] = fe\n",
        "                fbi[i] = fbi_prec\n",
        "                hi[i] = hi_prec/2\n",
        "                toli[i] = toli_prec/2\n",
        "                S0i[i] = S2\n",
        "                Li[i] = Li_prec + 1\n",
        "\n",
        "            # Intervalo izquierdo\n",
        "            i += 1\n",
        "            if i >= len(ai):\n",
        "                ai.append(ai_prec)\n",
        "                fai.append(fai_prec)\n",
        "                fci.append(fd)\n",
        "                fbi.append(fci_prec)\n",
        "                hi.append(hi[i-1])\n",
        "                toli.append(toli[i-1])\n",
        "                S0i.append(S1)\n",
        "                Li.append(Li[i-1])\n",
        "            else:\n",
        "                ai[i] = ai_prec\n",
        "                fai[i] = fai_prec\n",
        "                fci[i] = fd\n",
        "                fbi[i] = fci_prec\n",
        "                hi[i] = hi[i-1]\n",
        "                toli[i] = toli[i-1]\n",
        "                S0i[i] = S1\n",
        "                Li[i] = Li[i-1]\n",
        "\n",
        "    return approx"
      ]
    },
    {
      "cell_type": "code",
      "execution_count": 12,
      "metadata": {
        "colab": {
          "base_uri": "https://localhost:8080/"
        },
        "id": "-FXB13aVffxt",
        "outputId": "4ff72283-6f24-4224-f1b5-996e02365cb0"
      },
      "outputs": [
        {
          "data": {
            "text/plain": [
              "array([], shape=(0, 2), dtype=float64)"
            ]
          },
          "execution_count": 12,
          "metadata": {},
          "output_type": "execute_result"
        }
      ],
      "source": [
        "tabla_para_graficar = np.empty([0,2])\n",
        "tabla_para_graficar"
      ]
    },
    {
      "cell_type": "code",
      "execution_count": 13,
      "metadata": {
        "id": "7f0d8b3d"
      },
      "outputs": [],
      "source": [
        "for i in np.arange (0,1.1,0.1):\n",
        "    C_integrado=integral_adaptive(C,0,i,0.0001)\n",
        "    S_integrado=integral_adaptive(S,0,i,0.0001)\n",
        "    resultado_obtenidos= np.array([C_integrado,S_integrado])\n",
        "    tabla_para_graficar=np.vstack([tabla_para_graficar,resultado_obtenidos])"
      ]
    },
    {
      "cell_type": "code",
      "execution_count": 14,
      "metadata": {
        "colab": {
          "base_uri": "https://localhost:8080/"
        },
        "id": "iHbJcy13fmx0",
        "outputId": "ed2448ef-aa2e-4a81-e6a5-c5df72f7367f"
      },
      "outputs": [
        {
          "data": {
            "text/plain": [
              "array([[0.00000000e+00, 0.00000000e+00],\n",
              "       [9.99975262e-02, 5.23589387e-04],\n",
              "       [1.99920853e-01, 4.18758861e-03],\n",
              "       [2.99399446e-01, 1.41166481e-02],\n",
              "       [3.97474593e-01, 3.33568374e-02],\n",
              "       [4.92327199e-01, 6.47203162e-02],\n",
              "       [5.81060999e-01, 1.10498453e-01],\n",
              "       [6.59649786e-01, 1.72129265e-01],\n",
              "       [7.22844230e-01, 2.49325381e-01],\n",
              "       [7.64971727e-01, 3.39746957e-01],\n",
              "       [7.79880037e-01, 4.38245260e-01]])"
            ]
          },
          "execution_count": 14,
          "metadata": {},
          "output_type": "execute_result"
        }
      ],
      "source": [
        "tabla_para_graficar"
      ]
    },
    {
      "cell_type": "markdown",
      "metadata": {},
      "source": [
        "# Calificación: 7.0"
      ]
    },
    {
      "cell_type": "markdown",
      "metadata": {},
      "source": []
    }
  ],
  "metadata": {
    "colab": {
      "provenance": []
    },
    "kernelspec": {
      "display_name": "Python 3",
      "name": "python3"
    },
    "language_info": {
      "name": "python"
    }
  },
  "nbformat": 4,
  "nbformat_minor": 0
}
